{
 "cells": [
  {
   "cell_type": "code",
   "execution_count": 160,
   "id": "98e667dc",
   "metadata": {},
   "outputs": [],
   "source": [
    "#start the game and defines a f=global variable\n",
    "def start_the_game():\n",
    "    global output\n",
    "    output = [' ']*10\n",
    "    intro()"
   ]
  },
  {
   "cell_type": "code",
   "execution_count": 146,
   "id": "40ea05bd",
   "metadata": {},
   "outputs": [],
   "source": [
    "#game starting\n",
    "\n",
    "def intro():\n",
    "    \n",
    "    print(\"Welcome to Tic Tac Toe\")\n",
    "    \n",
    "    play_yn = input(\"Do you wanna play the game Y or N  \")\n",
    "    \n",
    "    play_yn = play_yn.upper()\n",
    "    \n",
    "    if play_yn == 'Y':\n",
    "        players_choice()\n",
    "    else:\n",
    "        print(\"Game Ends\")\n",
    "        "
   ]
  },
  {
   "cell_type": "code",
   "execution_count": 147,
   "id": "847103ec",
   "metadata": {},
   "outputs": [],
   "source": [
    "#giving players their unique symbols\n",
    "\n",
    "def players_choice():\n",
    "    print(\"Game ON\")    \n",
    "    player_chose_value = ''    \n",
    "    while player_chose_value not in ['X','O']:\n",
    "        player_chose_value = input(\"Player1 -- Choose your any one from 'X' or 'O' \").upper()\n",
    "        \n",
    "    if player_chose_value == 'X':\n",
    "        player1 = 'X'\n",
    "        player2 = 'O'\n",
    "        who_is_playing_first(player1,player2)\n",
    "        \n",
    "    else:\n",
    "        player1 = 'O'\n",
    "        player2 = 'X'\n",
    "        who_is_playing_first(player1,player2)\n",
    "        \n",
    "          "
   ]
  },
  {
   "cell_type": "code",
   "execution_count": 148,
   "id": "7d49be8c",
   "metadata": {},
   "outputs": [],
   "source": [
    "#pick first player\n",
    "\n",
    "import random\n",
    "\n",
    "def who_is_playing_first(player1_mark,player2_mark):\n",
    "    if random.randint(0,1)==0:\n",
    "        return starting_player('Player 1',player1_mark,player2_mark)\n",
    "    else:\n",
    "        return starting_player('Player 2',player1_mark,player2_mark)"
   ]
  },
  {
   "cell_type": "code",
   "execution_count": 149,
   "id": "9627c3f2",
   "metadata": {},
   "outputs": [],
   "source": [
    "def starting_player(string,player1_mark,player2_mark):\n",
    "    if string == 'Player 1':\n",
    "        print(\"Player 1 plays first\")\n",
    "        start_game_for_p1(player1_mark,player2_mark,output)\n",
    "    elif string == 'Player 2':\n",
    "        print(\"Player 2 plays first\")\n",
    "        start_game_for_p2(player1_mark,player2_mark,output)\n",
    "        \n",
    "        "
   ]
  },
  {
   "cell_type": "code",
   "execution_count": 150,
   "id": "3d5b964e",
   "metadata": {},
   "outputs": [],
   "source": [
    "#for player1\n",
    "\n",
    "def start_game_for_p1(player1_mark,player2_mark,output):\n",
    "    \n",
    "    display_board(output)\n",
    "    position = ask_player_choice(output)\n",
    "    index_marker(output,player1_mark,position)\n",
    "    \n",
    "    if check_winner(output,player1_mark):\n",
    "        display_board(output)\n",
    "        print('Congratulations! Player 1 You have won the game!')\n",
    "        clear_the_output()\n",
    "    else:\n",
    "        if full_board_check(output):\n",
    "            display_board(output)\n",
    "            print('The game is a draw!')\n",
    "            clear_the_output()\n",
    "        else:\n",
    "            start_game_for_p2(player1_mark,player2_mark,output)\n",
    "\n",
    "\n",
    "    "
   ]
  },
  {
   "cell_type": "code",
   "execution_count": 151,
   "id": "24631a04",
   "metadata": {},
   "outputs": [],
   "source": [
    "#for player2\n",
    "\n",
    "def start_game_for_p2(player1_mark,player2_mark,output):\n",
    "    \n",
    "    display_board(output)\n",
    "    position = ask_player_choice(output)\n",
    "    index_marker(output,player2_mark,position)\n",
    "    if check_winner(output,player2_mark):\n",
    "        display_board(output)\n",
    "        print('Congratulations! Player 2 You have won the game!')\n",
    "        clear_the_output()\n",
    "    else:\n",
    "        if full_board_check(output):\n",
    "            display_board(output)\n",
    "            print('The game is a draw!')\n",
    "            clear_the_output()\n",
    "        else:\n",
    "            start_game_for_p1(player1_mark,player2_mark,output)\n",
    "    \n",
    "\n",
    "    "
   ]
  },
  {
   "cell_type": "code",
   "execution_count": 152,
   "id": "786a6664",
   "metadata": {},
   "outputs": [],
   "source": [
    "#giving value to index position\n",
    "\n",
    "def index_marker(matrix,marker,index_pos):\n",
    "    matrix[index_pos] = marker"
   ]
  },
  {
   "cell_type": "code",
   "execution_count": 153,
   "id": "25f8b8df",
   "metadata": {},
   "outputs": [],
   "source": [
    "#board with index position alligned\n",
    "\n",
    "def display_board(matrix):\n",
    "    print(matrix[7]+' | '+matrix[8]+' | '+matrix[9])\n",
    "    print(matrix[4]+' | '+matrix[5]+' | '+matrix[6])\n",
    "    print(matrix[1]+' | '+matrix[2]+' | '+matrix[3])\n",
    "    "
   ]
  },
  {
   "cell_type": "code",
   "execution_count": 154,
   "id": "5191a095",
   "metadata": {},
   "outputs": [],
   "source": [
    "#to check winner\n",
    "\n",
    "def check_winner(matrix,mark):\n",
    "    return ((matrix[1] == mark and matrix[2] == mark and matrix[3] == mark) or\n",
    "            (matrix[4] == mark and matrix[5] == mark and matrix[6] == mark) or\n",
    "            (matrix[7] == mark and matrix[8] == mark and matrix[9] == mark) or\n",
    "            (matrix[1] == mark and matrix[4] == mark and matrix[7] == mark) or\n",
    "            (matrix[2] == mark and matrix[5] == mark and matrix[8] == mark) or\n",
    "            (matrix[3] == mark and matrix[6] == mark and matrix[9] == mark) or\n",
    "            (matrix[1] == mark and matrix[5] == mark and matrix[7] == mark) or\n",
    "            (matrix[7] == mark and matrix[5] == mark and matrix[3] == mark)\n",
    "           )\n",
    "    "
   ]
  },
  {
   "cell_type": "code",
   "execution_count": 155,
   "id": "6e7e3907",
   "metadata": {},
   "outputs": [],
   "source": [
    "#check index postin is empty or not\n",
    "\n",
    "def empty_position(matrix,position):\n",
    "    return matrix[position] == ' '"
   ]
  },
  {
   "cell_type": "code",
   "execution_count": 156,
   "id": "d7448f36",
   "metadata": {},
   "outputs": [],
   "source": [
    "#check board is empty or full\n",
    "\n",
    "def full_board_check(matrix):\n",
    "    for i in range(1,10):\n",
    "        if empty_position(matrix, i):\n",
    "            return False\n",
    "    return True"
   ]
  },
  {
   "cell_type": "code",
   "execution_count": 157,
   "id": "0697fe18",
   "metadata": {},
   "outputs": [],
   "source": [
    "#ask player for next position\n",
    "\n",
    "def ask_player_choice(matrix):\n",
    "    position = 0\n",
    "    \n",
    "    while position not in [1,2,3,4,5,6,7,8,9] or not empty_position(matrix, position):\n",
    "        position = int(input('Choose your next position: (1-9) '))\n",
    "        \n",
    "    return position"
   ]
  },
  {
   "cell_type": "code",
   "execution_count": 158,
   "id": "477e5d9c",
   "metadata": {},
   "outputs": [],
   "source": [
    "#clear the output list\n",
    "def clear_the_output():\n",
    "     output.clear()"
   ]
  },
  {
   "cell_type": "code",
   "execution_count": null,
   "id": "a3b63837",
   "metadata": {},
   "outputs": [],
   "source": [
    "start_the_game()"
   ]
  }
 ],
 "metadata": {
  "kernelspec": {
   "display_name": "Python 3 (ipykernel)",
   "language": "python",
   "name": "python3"
  },
  "language_info": {
   "codemirror_mode": {
    "name": "ipython",
    "version": 3
   },
   "file_extension": ".py",
   "mimetype": "text/x-python",
   "name": "python",
   "nbconvert_exporter": "python",
   "pygments_lexer": "ipython3",
   "version": "3.9.13"
  }
 },
 "nbformat": 4,
 "nbformat_minor": 5
}
